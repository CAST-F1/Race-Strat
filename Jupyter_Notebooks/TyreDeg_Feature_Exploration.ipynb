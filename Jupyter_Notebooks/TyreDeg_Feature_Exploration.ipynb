{
 "cells": [
  {
   "cell_type": "code",
   "execution_count": 2,
   "metadata": {},
   "outputs": [
    {
     "ename": "ModuleNotFoundError",
     "evalue": "No module named 'fastf1'",
     "output_type": "error",
     "traceback": [
      "\u001b[0;31m---------------------------------------------------------------------------\u001b[0m",
      "\u001b[0;31mModuleNotFoundError\u001b[0m                       Traceback (most recent call last)",
      "Cell \u001b[0;32mIn[2], line 1\u001b[0m\n\u001b[0;32m----> 1\u001b[0m \u001b[38;5;28;01mimport\u001b[39;00m\u001b[38;5;250m \u001b[39m\u001b[38;5;21;01mfastf1\u001b[39;00m\n\u001b[1;32m      2\u001b[0m \u001b[38;5;28;01mimport\u001b[39;00m\u001b[38;5;250m \u001b[39m\u001b[38;5;21;01mpandas\u001b[39;00m\u001b[38;5;250m \u001b[39m\u001b[38;5;28;01mas\u001b[39;00m\u001b[38;5;250m \u001b[39m\u001b[38;5;21;01mpd\u001b[39;00m\n\u001b[1;32m      3\u001b[0m \u001b[38;5;28;01mimport\u001b[39;00m\u001b[38;5;250m \u001b[39m\u001b[38;5;21;01mnumpy\u001b[39;00m\u001b[38;5;250m \u001b[39m\u001b[38;5;28;01mas\u001b[39;00m\u001b[38;5;250m \u001b[39m\u001b[38;5;21;01mnp\u001b[39;00m\n",
      "\u001b[0;31mModuleNotFoundError\u001b[0m: No module named 'fastf1'"
     ]
    }
   ],
   "source": [
    "import fastf1\n",
    "import pandas as pd\n",
    "import numpy as np\n",
    "import matplotlib.pyplot as plt\n",
    "import seaborn as sns\n",
    "from fastf1.plotting import setup_mpl\n",
    "\n",
    "setup_mpl(color_scheme='fastf1', misc_mpl_mods=False)  # Use FastF1's default styling"
   ]
  },
  {
   "cell_type": "code",
   "execution_count": null,
   "metadata": {},
   "outputs": [],
   "source": [
    "# Load the race and practice sessions\n",
    "race = fastf1.get_session(2021, 'Spain', 'R')\n",
    "fp1 = fastf1.get_session(2021, 'Spain', 'FP1')\n",
    "fp2 = fastf1.get_session(2021, 'Spain', 'FP2')\n",
    "fp3 = fastf1.get_session(2021, 'Spain', 'FP3')\n",
    "\n",
    "# Load session data\n",
    "race.load()\n",
    "fp1.load()\n",
    "fp2.load()\n",
    "fp3.load()"
   ]
  },
  {
   "cell_type": "code",
   "execution_count": null,
   "metadata": {},
   "outputs": [],
   "source": [
    "# Get Hamilton & Verstappen's laps\n",
    "drivers = ['HAM', 'VER']\n",
    "laps = race.laps[race.laps['Driver'].isin(drivers)].copy()\n",
    "\n",
    "# Extract tyre compound, age, and lap times\n",
    "laps['TyreAge'] = laps['LapNumber'] - laps.groupby('Driver')['PitOutTime'].fillna(method='ffill').apply(lambda x: x.dt.total_seconds() // 90)\n",
    "laps['LapTimeSeconds'] = laps['LapTime'].dt.total_seconds()\n",
    "\n",
    "# Keep only relevant columns\n",
    "laps = laps[['LapNumber', 'Driver', 'TyreAge', 'LapTimeSeconds', 'Compound']]\n",
    "laps.head()"
   ]
  },
  {
   "cell_type": "code",
   "execution_count": null,
   "metadata": {},
   "outputs": [],
   "source": [
    "# Function to get long runs (at least 10 consecutive laps) from a practice session\n",
    "def get_long_runs(session, driver):\n",
    "    laps = session.laps.pick_driver(driver).copy()\n",
    "    laps['LapTimeSeconds'] = laps['LapTime'].dt.total_seconds()\n",
    "\n",
    "    # Identify stints of 10+ flying laps\n",
    "    stint_groups = []\n",
    "    stint = []\n",
    "    for i in range(len(laps)):\n",
    "        if i > 0 and laps.iloc[i]['TyreAge'] > laps.iloc[i-1]['TyreAge'] + 1:\n",
    "            if len(stint) >= 10:\n",
    "                stint_groups.append(stint)\n",
    "            stint = []\n",
    "        stint.append(laps.iloc[i])\n",
    "    \n",
    "    if len(stint) >= 10:\n",
    "        stint_groups.append(stint)\n",
    "    \n",
    "    return stint_groups\n",
    "\n",
    "# Store degradation data\n",
    "degradation_data = {}\n",
    "\n",
    "# Loop through both drivers and all practice sessions\n",
    "for driver in drivers:\n",
    "    degradation_data[driver] = {}\n",
    "    \n",
    "    for session in [fp1, fp2, fp3]:\n",
    "        for stint in get_long_runs(session, driver):\n",
    "            df_stint = pd.DataFrame(stint)\n",
    "            tyre = df_stint.iloc[0]['Compound']\n",
    "\n",
    "            # Use fastest of first 3 laps as reference\n",
    "            reference_lap = df_stint.iloc[:3]['LapTimeSeconds'].min()\n",
    "            df_stint['DeltaToReference'] = df_stint['LapTimeSeconds'] - reference_lap\n",
    "\n",
    "            # Store degradation data by tyre type\n",
    "            if tyre not in degradation_data[driver]:\n",
    "                degradation_data[driver][tyre] = []\n",
    "            \n",
    "            degradation_data[driver][tyre].append(df_stint[['TyreAge', 'DeltaToReference']])"
   ]
  },
  {
   "cell_type": "code",
   "execution_count": null,
   "metadata": {},
   "outputs": [],
   "source": [
    "# Function to compute average degradation per tyre type\n",
    "def get_degradation_model(driver, tyre):\n",
    "    if tyre not in degradation_data[driver]:\n",
    "        return None  # No data for this tyre\n",
    "    \n",
    "    combined_data = pd.concat(degradation_data[driver][tyre], ignore_index=True)\n",
    "    \n",
    "    # Average degradation per tyre age\n",
    "    avg_degradation = combined_data.groupby('TyreAge')['DeltaToReference'].mean().reset_index()\n",
    "    \n",
    "    # Extrapolate to race distance (~66 laps for Spain)\n",
    "    max_age = 66\n",
    "    avg_degradation = avg_degradation.set_index('TyreAge').reindex(range(1, max_age + 1)).interpolate().reset_index()\n",
    "    \n",
    "    return avg_degradation\n",
    "\n",
    "# Generate degradation models\n",
    "degradation_models = {driver: {tyre: get_degradation_model(driver, tyre) for tyre in ['SOFT', 'MEDIUM', 'HARD']} for driver in drivers}"
   ]
  },
  {
   "cell_type": "code",
   "execution_count": null,
   "metadata": {},
   "outputs": [],
   "source": [
    "# Function to simulate race pace based on degradation model\n",
    "def predict_race_pace(driver):\n",
    "    pace_prediction = []\n",
    "    \n",
    "    current_tyre = None\n",
    "    reference_lap = None\n",
    "    \n",
    "    for _, lap in laps[laps['Driver'] == driver].iterrows():\n",
    "        if current_tyre != lap['Compound']:\n",
    "            current_tyre = lap['Compound']\n",
    "            reference_lap = lap['LapTimeSeconds']\n",
    "        \n",
    "        # Get predicted delta based on tyre age\n",
    "        delta = degradation_models[driver][current_tyre].loc[degradation_models[driver][current_tyre]['TyreAge'] == lap['TyreAge'], 'DeltaToReference'].values\n",
    "        if len(delta) > 0:\n",
    "            predicted_lap = reference_lap + delta[0]\n",
    "        else:\n",
    "            predicted_lap = reference_lap\n",
    "        \n",
    "        pace_prediction.append({'LapNumber': lap['LapNumber'], 'Driver': driver, 'PredictedLapTime': predicted_lap})\n",
    "    \n",
    "    return pd.DataFrame(pace_prediction)\n",
    "\n",
    "# Predict pace for both drivers\n",
    "predicted_pace = pd.concat([predict_race_pace(driver) for driver in drivers])"
   ]
  },
  {
   "cell_type": "code",
   "execution_count": null,
   "metadata": {},
   "outputs": [],
   "source": [
    "# Merge predictions\n",
    "gap_data = predicted_pace.pivot(index='LapNumber', columns='Driver', values='PredictedLapTime')\n",
    "gap_data['GapVER_HAM'] = gap_data['VER'] - gap_data['HAM']\n",
    "\n",
    "# Plot predicted gap over full race\n",
    "plt.figure(figsize=(10, 5))\n",
    "plt.plot(gap_data.index, gap_data['GapVER_HAM'], label=\"Predicted Gap (VER - HAM)\", color='purple')\n",
    "plt.axvline(x=40, color='red', linestyle='--', label=\"Lap 40 Mark\")\n",
    "plt.xlabel(\"Lap Number\")\n",
    "plt.ylabel(\"Predicted Gap (seconds)\")\n",
    "plt.title(\"Predicted Gap Between Verstappen & Hamilton Over the Race\")\n",
    "plt.legend()\n",
    "plt.grid()\n",
    "plt.show()\n",
    "\n",
    "# Zoomed-in view from lap 40 onward\n",
    "plt.figure(figsize=(10, 5))\n",
    "plt.plot(gap_data.loc[40:].index, gap_data.loc[40:]['GapVER_HAM'], label=\"Predicted Gap (VER - HAM)\", color='purple')\n",
    "plt.xlabel(\"Lap Number\")\n",
    "plt.ylabel(\"Predicted Gap (seconds)\")\n",
    "plt.title(\"Predicted Gap from Lap 40 Onward\")\n",
    "plt.legend()\n",
    "plt.grid()\n",
    "plt.show()"
   ]
  }
 ],
 "metadata": {
  "kernelspec": {
   "display_name": "Python 3",
   "language": "python",
   "name": "python3"
  },
  "language_info": {
   "codemirror_mode": {
    "name": "ipython",
    "version": 3
   },
   "file_extension": ".py",
   "mimetype": "text/x-python",
   "name": "python",
   "nbconvert_exporter": "python",
   "pygments_lexer": "ipython3",
   "version": "3.13.2"
  }
 },
 "nbformat": 4,
 "nbformat_minor": 2
}
